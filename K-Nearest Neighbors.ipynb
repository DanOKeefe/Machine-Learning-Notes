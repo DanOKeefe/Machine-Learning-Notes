{
 "cells": [
  {
   "cell_type": "markdown",
   "metadata": {},
   "source": [
    "# K-Nearest Neighbors (KNN)\n",
    "\n",
    "### KNN is a non-parametric model used for both regression and classification\n",
    "- Non-parametric means that the model has no parameters, unlike a linear regression model or neural network\n",
    "    - Predictions of future data are based entirely on training examples\n",
    "- Downside is that you need to hold all training data in memory while making future predicts with the model\n",
    "\n",
    "### How does it work? (Classification)\n",
    "- Given a new test data point $P$ where you don't know what class it belongs to, it predicts the class of the new data point by\n",
    "    - Finding the nearest K training data points to $P$\n",
    "    - Giving each K training data points a \"vote\" to what class $P$ belongs to.\n",
    "- Example (K=5)\n",
    "    - If 3 of the nearest training data points to $P$ belong to class 0, and 2 belong to class 1, the KNN model will predict that $P$ belongs to class 0\n",
    "    \n",
    "### How does it work? (Regression)\n",
    "- Given a new test data point $P$ where you don't know what output value it should have, it predicts the output value of the new data point by\n",
    "    - Finding the nearest K training data points to $P$\n",
    "    - Averaging the output values of the K training data points\n",
    "    - Predicting that $P$ will have an output value of this average\n",
    "- Example (K=5)\n",
    "    - If the 5 nearest data points have an output value of [2,2,3,4,4] the KNN model will predict that $P$ has an output value of 3"
   ]
  },
  {
   "cell_type": "code",
   "execution_count": 1,
   "metadata": {},
   "outputs": [
    {
     "name": "stdout",
     "output_type": "stream",
     "text": [
      "NumPy version 1.15.0\n",
      "pandas version 1.0.1\n"
     ]
    }
   ],
   "source": [
    "import numpy as np\n",
    "import pandas as pd\n",
    "import matplotlib.pyplot as plt\n",
    "from sklearn.neighbors import KNeighborsClassifier\n",
    "%matplotlib inline\n",
    "\n",
    "np.random.seed(999)\n",
    "\n",
    "print('NumPy version', np.__version__)\n",
    "print('pandas version', pd.__version__)"
   ]
  },
  {
   "cell_type": "markdown",
   "metadata": {},
   "source": [
    "### Generate data for two seperate class\n",
    "- Each class will have two features\n",
    "- Class 0 will have features generated from a random normal distribution with mean 0.25 and standard deviation 0.2\n",
    "- Class 1 will have features generated from a random normal distribution with mean 0.75 and standard deviation 0.2"
   ]
  },
  {
   "cell_type": "code",
   "execution_count": 2,
   "metadata": {},
   "outputs": [],
   "source": [
    "num_examples = 10\n",
    "num_features = 2\n",
    "# Generate data for the two classes\n",
    "X = np.concatenate(\n",
    "    [\n",
    "     np.random.normal(0.25,0.2, size=(num_examples,num_features)), \n",
    "     np.random.normal(0.75,0.2, size=(num_examples,num_features))\n",
    "    ], \n",
    "    axis=0)\n",
    "y = np.concatenate([[0]*num_examples, [1]*num_examples], axis=0)\n",
    "\n",
    "color_map = {\n",
    "    0:'blue',\n",
    "    1:'red'\n",
    "}\n",
    "color = [color_map[y_val] for y_val in y]"
   ]
  },
  {
   "cell_type": "code",
   "execution_count": 3,
   "metadata": {},
   "outputs": [
    {
     "data": {
      "image/png": "[encoded data removed]",
      "text/plain": [
       "<matplotlib.figure.Figure at 0x7f55a859e6d8>"
      ]
     },
     "metadata": {},
     "output_type": "display_data"
    }
   ],
   "source": [
    "plt.scatter(X[:,0], X[:,1], color=color)\n",
    "plt.title('Training data')\n",
    "plt.xlabel('X1')\n",
    "plt.ylabel('X2')\n",
    "plt.show()"
   ]
  },
  {
   "cell_type": "markdown",
   "metadata": {},
   "source": [
    "### Train KNN model with K=5"
   ]
  },
  {
   "cell_type": "code",
   "execution_count": 4,
   "metadata": {},
   "outputs": [
    {
     "data": {
      "text/plain": [
       "KNeighborsClassifier(algorithm='auto', leaf_size=30, metric='minkowski',\n",
       "           metric_params=None, n_jobs=1, n_neighbors=5, p=2,\n",
       "           weights='uniform')"
      ]
     },
     "execution_count": 4,
     "metadata": {},
     "output_type": "execute_result"
    }
   ],
   "source": [
    "knn_model = KNeighborsClassifier(n_neighbors=5)\n",
    "knn_model.fit(X, y)"
   ]
  },
  {
   "cell_type": "markdown",
   "metadata": {},
   "source": [
    "### Classifying a new data point"
   ]
  },
  {
   "cell_type": "code",
   "execution_count": 5,
   "metadata": {},
   "outputs": [
    {
     "data": {
      "image/png": "[encoded data removed]",
      "text/plain": [
       "<matplotlib.figure.Figure at 0x7f5570bd7d68>"
      ]
     },
     "metadata": {},
     "output_type": "display_data"
    }
   ],
   "source": [
    "# X1 = 0.5, X2 = 0.5\n",
    "X_test = [0.5,0.5]\n",
    "plt.scatter(X[:,0], X[:,1], color=color)\n",
    "plt.scatter(X_test[0], X_test[1], color='black')\n",
    "plt.title('Training data & new data point')\n",
    "plt.xlabel('X1')\n",
    "plt.ylabel('X2')\n",
    "plt.show()"
   ]
  },
  {
   "cell_type": "markdown",
   "metadata": {},
   "source": [
    "### What is our predicted class for this new data point?"
   ]
  },
  {
   "cell_type": "code",
   "execution_count": 6,
   "metadata": {},
   "outputs": [
    {
     "name": "stdout",
     "output_type": "stream",
     "text": [
      "Predicted Class:\n",
      " [1]\n"
     ]
    }
   ],
   "source": [
    "print('Predicted Class:\\n', knn_model.predict([X_test]))"
   ]
  },
  {
   "cell_type": "markdown",
   "metadata": {},
   "source": [
    "### What were the estimated probabilities of belonging to each class?\n",
    "- This means the 2 of the nearest neighbors belong to class 0, and 3 belong to class 1\n",
    "- We know this because we used equal weighting for each nearest neighbor (not weighted depending on distance, as more complex KNN models utilize)"
   ]
  },
  {
   "cell_type": "code",
   "execution_count": 7,
   "metadata": {},
   "outputs": [
    {
     "name": "stdout",
     "output_type": "stream",
     "text": [
      "Predicted probability distributions over all classes:\n",
      " [[0.4 0.6]]\n"
     ]
    }
   ],
   "source": [
    "print('Predicted probability distributions over all classes:\\n', knn_model.predict_proba([X_test]))"
   ]
  },
  {
   "cell_type": "markdown",
   "metadata": {},
   "source": [
    "### Classifying multiple new data points at once"
   ]
  },
  {
   "cell_type": "code",
   "execution_count": 8,
   "metadata": {},
   "outputs": [
    {
     "data": {
      "image/png": "[encoded data removed]",
      "text/plain": [
       "<matplotlib.figure.Figure at 0x7f5570b52b38>"
      ]
     },
     "metadata": {},
     "output_type": "display_data"
    }
   ],
   "source": [
    "X_test = np.asarray([[0.5,0.5],[0.75,0.6],[0.25,0.3]])   \n",
    "plt.scatter(X[:,0], X[:,1], color=color)\n",
    "plt.scatter(X_test[:,0], X_test[:,1], color='black')\n",
    "plt.title('Training data & new data point')\n",
    "plt.xlabel('X1')\n",
    "plt.ylabel('X2')\n",
    "plt.show()"
   ]
  },
  {
   "cell_type": "code",
   "execution_count": 9,
   "metadata": {},
   "outputs": [
    {
     "name": "stdout",
     "output_type": "stream",
     "text": [
      "Predicted classes:\n",
      " [1 1 0]\n",
      "\n",
      "Predicted probability distributions over all classes:\n",
      " [[0.4 0.6]\n",
      " [0.  1. ]\n",
      " [1.  0. ]]\n"
     ]
    }
   ],
   "source": [
    "print('Predicted classes:\\n', knn_model.predict(X_test))\n",
    "print('\\nPredicted probability distributions over all classes:\\n', knn_model.predict_proba(X_test))"
   ]
  }
 ],
 "metadata": {
  "kernelspec": {
   "display_name": "Python 3",
   "language": "python",
   "name": "python3"
  },
  "language_info": {
   "codemirror_mode": {
    "name": "ipython",
    "version": 3
   },
   "file_extension": ".py",
   "mimetype": "text/x-python",
   "name": "python",
   "nbconvert_exporter": "python",
   "pygments_lexer": "ipython3",
   "version": "3.7.5"
  }
 },
 "nbformat": 4,
 "nbformat_minor": 4
}
