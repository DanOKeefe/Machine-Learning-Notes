{
 "cells": [
  {
   "cell_type": "markdown",
   "metadata": {},
   "source": [
    "# Autoencoder\n",
    "### Utilizing tabular data\n",
    "- Train an autoencoder to compress 4 features down to 2 datapoints that vary from 0 to 1 (output of sigmoid function), then attempts to reconstruct the original data\n",
    "- Generate new data points using the decoder layer of the model by inputting latent variables sampled from a uniform distribution"
   ]
  },
  {
   "cell_type": "code",
   "execution_count": 2,
   "metadata": {},
   "outputs": [],
   "source": [
    "import numpy as np\n",
    "import pandas as pd\n",
    "from tensorflow.keras.models import Sequential, Model\n",
    "from tensorflow.keras.layers import Dense, Input\n",
    "from tensorflow.keras import backend as K\n",
    "from sklearn.metrics import mean_squared_error\n",
    "from sklearn.preprocessing import StandardScaler\n",
    "from scipy.stats import skew, kurtosis\n",
    "import matplotlib.pyplot as plt\n",
    "%matplotlib inline"
   ]
  },
  {
   "cell_type": "code",
   "execution_count": 3,
   "metadata": {},
   "outputs": [],
   "source": [
    "n_examples = 10000\n",
    "f1 = np.random.normal(0,1, size=(n_examples, 1))\n",
    "f2 = np.random.normal(0,3, size=(n_examples, 1))\n",
    "f3 = np.random.normal(-3,2, size=(n_examples, 1))\n",
    "f4 = np.random.normal(5,1, size=(n_examples, 1))\n",
    "data = np.concatenate([f1,f2,f3,f4], axis=1)\n",
    "# add one additional row that has an anomalous value for feature 1\n",
    "anomalous_datapoint = np.asarray([-20, 2, -4, 10]).reshape(1, -1)\n",
    "data = np.concatenate([data, anomalous_datapoint], axis=0)\n",
    "data.shape\n",
    "\n",
    "# train model on first 9500 data points\n",
    "X_train = data[:9500]\n",
    "X_test = data[9500:]\n",
    "\n",
    "scaler = StandardScaler()\n",
    "scaler.fit(X_train)\n",
    "X_train = scaler.transform(X_train)\n",
    "X_test = scaler.transform(X_test)\n",
    "\n",
    "# Define Model\n",
    "model = Sequential()\n",
    "model.add(Dense(2, activation='sigmoid', input_shape=(X_train.shape[1],)))\n",
    "model.add(Dense(4, activation='linear'))\n",
    "model.compile(optimizer='adam', loss='mse')"
   ]
  },
  {
   "cell_type": "code",
   "execution_count": 4,
   "metadata": {},
   "outputs": [],
   "source": [
    "history = model.fit(X_train, X_train, epochs=64, batch_size=32, verbose=0, validation_split=0.1)"
   ]
  },
  {
   "cell_type": "markdown",
   "metadata": {},
   "source": [
    "### Check model fit"
   ]
  },
  {
   "cell_type": "code",
   "execution_count": 5,
   "metadata": {},
   "outputs": [
    {
     "data": {
      "image/png": "[encoded data removed]",
      "text/plain": [
       "<Figure size 432x288 with 1 Axes>"
      ]
     },
     "metadata": {
      "needs_background": "light"
     },
     "output_type": "display_data"
    }
   ],
   "source": [
    "plt.plot(history.history['loss'])\n",
    "plt.plot(history.history['val_loss'])\n",
    "plt.title('Model loss')\n",
    "plt.ylabel('Loss')\n",
    "plt.xlabel('Epoch')\n",
    "plt.legend(['Train', 'Val'], loc='upper left')\n",
    "plt.show()"
   ]
  },
  {
   "cell_type": "code",
   "execution_count": 6,
   "metadata": {},
   "outputs": [
    {
     "name": "stdout",
     "output_type": "stream",
     "text": [
      "0.6752222589625232\n"
     ]
    }
   ],
   "source": [
    "X_pred = model.predict(X_test)\n",
    "print(mean_squared_error(X_test, X_pred))"
   ]
  },
  {
   "cell_type": "markdown",
   "metadata": {},
   "source": [
    "### Plot residuals for feature 1"
   ]
  },
  {
   "cell_type": "code",
   "execution_count": 7,
   "metadata": {},
   "outputs": [
    {
     "data": {
      "image/png": "[encoded data removed]",
      "text/plain": [
       "<Figure size 720x288 with 1 Axes>"
      ]
     },
     "metadata": {
      "needs_background": "light"
     },
     "output_type": "display_data"
    }
   ],
   "source": [
    "plt.figure(figsize=(10,4))\n",
    "plt.bar(range(X_test.shape[0]), (X_test[:, 0] - X_pred[:, 0]))\n",
    "plt.show()"
   ]
  },
  {
   "cell_type": "markdown",
   "metadata": {},
   "source": [
    "### MSE on test set for feature 1 (excluding anomalous example)"
   ]
  },
  {
   "cell_type": "code",
   "execution_count": 8,
   "metadata": {},
   "outputs": [
    {
     "data": {
      "text/plain": [
       "0.618310982603348"
      ]
     },
     "execution_count": 8,
     "metadata": {},
     "output_type": "execute_result"
    }
   ],
   "source": [
    "mean_squared_error(X_test[:-1, 0], X_pred[:-1, 0])"
   ]
  },
  {
   "cell_type": "markdown",
   "metadata": {},
   "source": [
    "### SE for feature 1 on anomalous example\n",
    "- anomalous data point would have been easily identifed"
   ]
  },
  {
   "cell_type": "code",
   "execution_count": 9,
   "metadata": {},
   "outputs": [
    {
     "data": {
      "text/plain": [
       "318.276720887168"
      ]
     },
     "execution_count": 9,
     "metadata": {},
     "output_type": "execute_result"
    }
   ],
   "source": [
    "mean_squared_error(X_test[-1:, 0], X_pred[-1:, 0])"
   ]
  },
  {
   "cell_type": "markdown",
   "metadata": {},
   "source": [
    "# Generate new data using the trained decoder\n",
    "### First, retrieve decoder from the trained model"
   ]
  },
  {
   "cell_type": "code",
   "execution_count": 10,
   "metadata": {},
   "outputs": [],
   "source": [
    "decoder_input = Input(shape=(2,))\n",
    "decoder_output = model.layers[1](decoder_input)\n",
    "decoder_model = Model(decoder_input, decoder_output)"
   ]
  },
  {
   "cell_type": "markdown",
   "metadata": {},
   "source": [
    "### Generate one new datapoint, given a vector with 2 elements"
   ]
  },
  {
   "cell_type": "code",
   "execution_count": 11,
   "metadata": {},
   "outputs": [
    {
     "data": {
      "text/plain": [
       "array([[-0.02718519,  0.3345472 , -2.9523158 ,  4.990638  ]],\n",
       "      dtype=float32)"
      ]
     },
     "execution_count": 11,
     "metadata": {},
     "output_type": "execute_result"
    }
   ],
   "source": [
    "scaler.inverse_transform(decoder_model.predict(np.asarray([0.5, 0.5]).reshape(-1,2)))"
   ]
  },
  {
   "cell_type": "markdown",
   "metadata": {},
   "source": [
    "### Plot the distribution of activation values during testing to see what kind of a distribution they appear to be"
   ]
  },
  {
   "cell_type": "code",
   "execution_count": 12,
   "metadata": {},
   "outputs": [
    {
     "data": {
      "image/png": "[encoded data removed]",
      "text/plain": [
       "<Figure size 720x288 with 2 Axes>"
      ]
     },
     "metadata": {
      "needs_background": "light"
     },
     "output_type": "display_data"
    }
   ],
   "source": [
    "get_activations = K.function([model.input], [model.layers[0].output])\n",
    "activations = get_activations([X_test])[0]\n",
    "\n",
    "fig, ax = plt.subplots(1,2, figsize=(10,4))\n",
    "ax[0].hist(activations[:, 0], bins=20, density=True)\n",
    "ax[1].hist(activations[:, 1], bins=20, density=True)\n",
    "plt.show()"
   ]
  },
  {
   "cell_type": "markdown",
   "metadata": {},
   "source": [
    "##### Looks like a beta distribution shifted/scaled (linearly transformed)"
   ]
  },
  {
   "cell_type": "code",
   "execution_count": 13,
   "metadata": {},
   "outputs": [
    {
     "name": "stdout",
     "output_type": "stream",
     "text": [
      "Distribution skews\n",
      "-0.010756253264844418\n",
      "-0.023468947038054466\n",
      "\n",
      "Distribution kurtosis\n",
      "-0.8674199667651941\n",
      "-0.687367320238085\n"
     ]
    }
   ],
   "source": [
    "print('Distribution skews')\n",
    "print(skew(activations[:, 0]))\n",
    "print(skew(activations[:, 1]))\n",
    "print('\\nDistribution kurtosis')\n",
    "print(kurtosis(activations[:, 0]))\n",
    "print(kurtosis(activations[:, 1]))"
   ]
  },
  {
   "cell_type": "markdown",
   "metadata": {},
   "source": [
    "##### From above, the plot and kurtosis values show that these are most likely not normally distributed because their tails are too skinny. Also bounded between 0 and 1\n",
    "\n",
    "##### Find beta distributions that resemble the distributions of the activation outputs"
   ]
  },
  {
   "cell_type": "code",
   "execution_count": 14,
   "metadata": {},
   "outputs": [
    {
     "data": {
      "image/png": "[encoded data removed]",
      "text/plain": [
       "<Figure size 720x288 with 2 Axes>"
      ]
     },
     "metadata": {
      "needs_background": "light"
     },
     "output_type": "display_data"
    },
    {
     "name": "stdout",
     "output_type": "stream",
     "text": [
      "Distribution skews\n",
      "-0.009719417925695624\n",
      "0.015621174206832369\n",
      "\n",
      "Distribution kurtosis\n",
      "-0.5258423533085277\n",
      "-0.4912628767073226\n"
     ]
    }
   ],
   "source": [
    "fig, ax = plt.subplots(1,2, figsize=(10,4))\n",
    "beta_vals1 = np.random.beta(4,4, 10000)/(1/0.8)\n",
    "beta_vals2 = np.random.beta(5,5, 10000)/(1/0.9)+0.1\n",
    "ax[0].hist(beta_vals1, bins=20, density=True)\n",
    "ax[1].hist(beta_vals2, bins=20, density=True)\n",
    "plt.show()\n",
    "\n",
    "print('Distribution skews')\n",
    "print(skew(beta_vals1))\n",
    "print(skew(beta_vals2))\n",
    "print('\\nDistribution kurtosis')\n",
    "print(kurtosis(beta_vals1))\n",
    "print(kurtosis(beta_vals2))"
   ]
  },
  {
   "cell_type": "markdown",
   "metadata": {},
   "source": [
    "### Generate lots of new datapoints by sampling from the two beta distributions"
   ]
  },
  {
   "cell_type": "code",
   "execution_count": 15,
   "metadata": {},
   "outputs": [],
   "source": [
    "#new_data = decoder_model.predict(np.random.uniform(0,1,size=(5000,2)))\n",
    "#new_data = decoder_model.predict(np.random.normal(0.5,.25,size=(5000,2)).clip(0,1)).reshape(-1,4)\n",
    "a1 = np.random.beta(4,4, 10000)/(1/0.8)\n",
    "a2 = np.random.beta(5,5, 10000)/(1/0.9)+0.1\n",
    "a = np.concatenate([a1, a2], axis=0).reshape((-1,2))\n",
    "new_data = decoder_model.predict(a).reshape(-1,4)\n",
    "new_data = scaler.inverse_transform(new_data)"
   ]
  },
  {
   "cell_type": "code",
   "execution_count": 16,
   "metadata": {},
   "outputs": [],
   "source": [
    "X_train = scaler.inverse_transform(X_train)\n",
    "X_test = scaler.inverse_transform(X_test)"
   ]
  },
  {
   "cell_type": "markdown",
   "metadata": {},
   "source": [
    "### Compare the feature distributions in the training data to the simulated data"
   ]
  },
  {
   "cell_type": "code",
   "execution_count": 17,
   "metadata": {},
   "outputs": [
    {
     "data": {
      "image/png": "[encoded data removed]",
      "text/plain": [
       "<Figure size 720x432 with 4 Axes>"
      ]
     },
     "metadata": {
      "needs_background": "light"
     },
     "output_type": "display_data"
    },
    {
     "data": {
      "image/png": "[encoded data removed]",
      "text/plain": [
       "<Figure size 720x432 with 4 Axes>"
      ]
     },
     "metadata": {
      "needs_background": "light"
     },
     "output_type": "display_data"
    }
   ],
   "source": [
    "fig, axes = plt.subplots(2,2, figsize=(10,6))\n",
    "fig.suptitle('Training Data Features Distributions')\n",
    "axes[0,0].hist(X_train[:, 0], bins=30)\n",
    "axes[0,1].hist(X_train[:, 1], bins=30)\n",
    "axes[1,0].hist(X_train[:, 2], bins=30)\n",
    "axes[1,1].hist(X_train[:, 3], bins=30)\n",
    "plt.show()\n",
    "\n",
    "fig, axes = plt.subplots(2,2, figsize=(10,6))\n",
    "fig.suptitle('Simulated Data Feature Distributions')\n",
    "axes[0,0].hist(new_data[:, 0], bins=30)\n",
    "axes[0,1].hist(new_data[:, 1], bins=30)\n",
    "axes[1,0].hist(new_data[:, 2], bins=30)\n",
    "axes[1,1].hist(new_data[:, 3], bins=30)\n",
    "plt.show()"
   ]
  },
  {
   "cell_type": "markdown",
   "metadata": {},
   "source": [
    "##### Also note this was a simplified case b/c the decoder here doesn't have any layers with non-linear activation functions"
   ]
  }
 ],
 "metadata": {
  "kernelspec": {
   "display_name": "Python 3",
   "language": "python",
   "name": "python3"
  },
  "language_info": {
   "codemirror_mode": {
    "name": "ipython",
    "version": 3
   },
   "file_extension": ".py",
   "mimetype": "text/x-python",
   "name": "python",
   "nbconvert_exporter": "python",
   "pygments_lexer": "ipython3",
   "version": "3.7.5"
  }
 },
 "nbformat": 4,
 "nbformat_minor": 4
}
